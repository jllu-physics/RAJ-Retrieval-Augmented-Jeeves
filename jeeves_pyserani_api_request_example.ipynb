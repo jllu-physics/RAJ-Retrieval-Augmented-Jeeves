{
 "cells": [
  {
   "cell_type": "code",
   "execution_count": 1,
   "id": "4a943eec-d5d7-4b42-9646-023f5baf8cc6",
   "metadata": {},
   "outputs": [
    {
     "name": "stdout",
     "output_type": "stream",
     "text": [
      "{'results': [{'rank': 1, 'docid': 'doc2', 'score': 0.25619998574256897}, {'rank': 2, 'docid': 'doc3', 'score': 0.2313999980688095}]}\n"
     ]
    }
   ],
   "source": [
    "import requests\n",
    "r = requests.get(\"http://localhost:8000/search\", params={\"q\": \"document\", \"k\": 2})\n",
    "print(r.json())"
   ]
  },
  {
   "cell_type": "code",
   "execution_count": null,
   "id": "1e349fc7-88ba-4fc7-9134-55b3c2e61605",
   "metadata": {},
   "outputs": [],
   "source": []
  }
 ],
 "metadata": {
  "kernelspec": {
   "display_name": "Python 3 (ipykernel)",
   "language": "python",
   "name": "python3"
  },
  "language_info": {
   "codemirror_mode": {
    "name": "ipython",
    "version": 3
   },
   "file_extension": ".py",
   "mimetype": "text/x-python",
   "name": "python",
   "nbconvert_exporter": "python",
   "pygments_lexer": "ipython3",
   "version": "3.11.7"
  }
 },
 "nbformat": 4,
 "nbformat_minor": 5
}
